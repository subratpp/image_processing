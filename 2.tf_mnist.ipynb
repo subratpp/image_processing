{
 "cells": [
  {
   "cell_type": "markdown",
   "id": "7ecb5f92",
   "metadata": {},
   "source": [
    "# MNIST with TF2"
   ]
  },
  {
   "cell_type": "code",
   "execution_count": 1,
   "id": "4d2dfd53",
   "metadata": {},
   "outputs": [
    {
     "name": "stdout",
     "output_type": "stream",
     "text": [
      "2.4.1\n"
     ]
    }
   ],
   "source": [
    "import tensorflow as tf\n",
    "print(tf.__version__)"
   ]
  },
  {
   "cell_type": "code",
   "execution_count": 2,
   "id": "89eff797",
   "metadata": {},
   "outputs": [],
   "source": [
    "from tensorflow.keras.preprocessing import image\n",
    "import matplotlib.pyplot as plt\n",
    "import numpy as np\n",
    "import pandas as pd"
   ]
  },
  {
   "cell_type": "code",
   "execution_count": 3,
   "id": "50fbc46a",
   "metadata": {},
   "outputs": [],
   "source": [
    "# Load the MNIST dataset\n",
    "\n",
    "from tensorflow.keras.datasets import mnist\n",
    "(X_train, Y_train), (X_test, Y_test) = mnist.load_data()"
   ]
  },
  {
   "cell_type": "code",
   "execution_count": 4,
   "id": "8c0d9aa7",
   "metadata": {},
   "outputs": [],
   "source": [
    "X_train = X_train/255.\n",
    "X_test = X_test/255."
   ]
  },
  {
   "cell_type": "code",
   "execution_count": 5,
   "id": "3ded5bfc",
   "metadata": {},
   "outputs": [
    {
     "data": {
      "image/png": "[encoded data removed]",
      "text/plain": [
       "<Figure size 432x288 with 1 Axes>"
      ]
     },
     "metadata": {
      "needs_background": "light"
     },
     "output_type": "display_data"
    },
    {
     "name": "stdout",
     "output_type": "stream",
     "text": [
      "label:0\n"
     ]
    }
   ],
   "source": [
    "# Display one of the images\n",
    "\n",
    "i = 1\n",
    "img = X_train[i,:,:]\n",
    "plt.imshow(img)\n",
    "plt.show()\n",
    "print(f'label:{Y_train[i]}')"
   ]
  },
  {
   "cell_type": "code",
   "execution_count": 6,
   "id": "7c8ca73d",
   "metadata": {},
   "outputs": [
    {
     "data": {
      "text/plain": [
       "(28, 28)"
      ]
     },
     "execution_count": 6,
     "metadata": {},
     "output_type": "execute_result"
    }
   ],
   "source": [
    "img.shape"
   ]
  },
  {
   "cell_type": "code",
   "execution_count": 7,
   "id": "793a1cd7",
   "metadata": {},
   "outputs": [],
   "source": [
    "from tensorflow.keras.models import Sequential\n",
    "from tensorflow.keras.layers import Dense, Flatten, Softmax, Conv2D, MaxPooling2D\n",
    "\n",
    "model = Sequential([Conv2D(16, (3,3), activation='relu', input_shape=(28,28,1) ),\n",
    "                   MaxPooling2D((3,3)),\n",
    "                   Flatten(),\n",
    "                   Dense(10, activation='softmax')])"
   ]
  },
  {
   "cell_type": "code",
   "execution_count": 8,
   "id": "1951e224",
   "metadata": {},
   "outputs": [
    {
     "name": "stdout",
     "output_type": "stream",
     "text": [
      "Model: \"sequential\"\n",
      "_________________________________________________________________\n",
      "Layer (type)                 Output Shape              Param #   \n",
      "=================================================================\n",
      "conv2d (Conv2D)              (None, 26, 26, 16)        160       \n",
      "_________________________________________________________________\n",
      "max_pooling2d (MaxPooling2D) (None, 8, 8, 16)          0         \n",
      "_________________________________________________________________\n",
      "flatten (Flatten)            (None, 1024)              0         \n",
      "_________________________________________________________________\n",
      "dense (Dense)                (None, 10)                10250     \n",
      "=================================================================\n",
      "Total params: 10,410\n",
      "Trainable params: 10,410\n",
      "Non-trainable params: 0\n",
      "_________________________________________________________________\n"
     ]
    }
   ],
   "source": [
    "model.summary()"
   ]
  },
  {
   "cell_type": "code",
   "execution_count": 9,
   "id": "904389be",
   "metadata": {},
   "outputs": [],
   "source": [
    "#compile method\n",
    "opt = tf.keras.optimizers.Adam(learning_rate = 0.005)\n",
    "acc = tf.keras.metrics.SparseCategoricalAccuracy()\n",
    "mae = tf.keras.metrics.MeanAbsoluteError()\n",
    "\n",
    "model.compile(optimizer='adam',\n",
    "             loss = 'sparse_categorical_crossentropy',\n",
    "             metrics=[acc, mae])"
   ]
  },
  {
   "cell_type": "code",
   "execution_count": 10,
   "id": "b882c8e9",
   "metadata": {},
   "outputs": [
    {
     "data": {
      "text/plain": [
       "[]"
      ]
     },
     "execution_count": 10,
     "metadata": {},
     "output_type": "execute_result"
    }
   ],
   "source": [
    "model.metrics"
   ]
  },
  {
   "cell_type": "code",
   "execution_count": 11,
   "id": "22bf9d4a",
   "metadata": {},
   "outputs": [
    {
     "data": {
      "text/plain": [
       "(60000, 28, 28)"
      ]
     },
     "execution_count": 11,
     "metadata": {},
     "output_type": "execute_result"
    }
   ],
   "source": [
    "X_train.shape"
   ]
  },
  {
   "cell_type": "code",
   "execution_count": 12,
   "id": "6903194c",
   "metadata": {},
   "outputs": [
    {
     "name": "stdout",
     "output_type": "stream",
     "text": [
      "Epoch 1/20\n",
      "235/235 [==============================] - 8s 20ms/step - loss: 1.2682 - sparse_categorical_accuracy: 0.6557 - mean_absolute_error: 4.3714\n",
      "Epoch 2/20\n",
      "235/235 [==============================] - 4s 15ms/step - loss: 0.2703 - sparse_categorical_accuracy: 0.9239 - mean_absolute_error: 4.3356\n",
      "Epoch 3/20\n",
      "235/235 [==============================] - 4s 16ms/step - loss: 0.1869 - sparse_categorical_accuracy: 0.9456 - mean_absolute_error: 4.3732\n",
      "Epoch 4/20\n",
      "235/235 [==============================] - 4s 15ms/step - loss: 0.1482 - sparse_categorical_accuracy: 0.9594 - mean_absolute_error: 4.3558\n",
      "Epoch 5/20\n",
      "235/235 [==============================] - 3s 11ms/step - loss: 0.1245 - sparse_categorical_accuracy: 0.9648 - mean_absolute_error: 4.3699\n",
      "Epoch 6/20\n",
      "235/235 [==============================] - 2s 11ms/step - loss: 0.1098 - sparse_categorical_accuracy: 0.9686 - mean_absolute_error: 4.3675\n",
      "Epoch 7/20\n",
      "235/235 [==============================] - 2s 10ms/step - loss: 0.1038 - sparse_categorical_accuracy: 0.9694 - mean_absolute_error: 4.3684\n",
      "Epoch 8/20\n",
      "235/235 [==============================] - 2s 10ms/step - loss: 0.0940 - sparse_categorical_accuracy: 0.9717 - mean_absolute_error: 4.3719\n",
      "Epoch 9/20\n",
      "235/235 [==============================] - 2s 10ms/step - loss: 0.0878 - sparse_categorical_accuracy: 0.9743 - mean_absolute_error: 4.3672\n",
      "Epoch 10/20\n",
      "235/235 [==============================] - 2s 10ms/step - loss: 0.0821 - sparse_categorical_accuracy: 0.9767 - mean_absolute_error: 4.3754\n",
      "Epoch 11/20\n",
      "235/235 [==============================] - 2s 10ms/step - loss: 0.0777 - sparse_categorical_accuracy: 0.9773 - mean_absolute_error: 4.3913\n",
      "Epoch 12/20\n",
      "235/235 [==============================] - 2s 10ms/step - loss: 0.0712 - sparse_categorical_accuracy: 0.9794 - mean_absolute_error: 4.3915\n",
      "Epoch 13/20\n",
      "235/235 [==============================] - 2s 10ms/step - loss: 0.0713 - sparse_categorical_accuracy: 0.9786 - mean_absolute_error: 4.3708\n",
      "Epoch 14/20\n",
      "235/235 [==============================] - 2s 10ms/step - loss: 0.0679 - sparse_categorical_accuracy: 0.9797 - mean_absolute_error: 4.3847\n",
      "Epoch 15/20\n",
      "235/235 [==============================] - 2s 10ms/step - loss: 0.0672 - sparse_categorical_accuracy: 0.9811 - mean_absolute_error: 4.3819\n",
      "Epoch 16/20\n",
      "235/235 [==============================] - 2s 10ms/step - loss: 0.0618 - sparse_categorical_accuracy: 0.9815 - mean_absolute_error: 4.3597\n",
      "Epoch 17/20\n",
      "235/235 [==============================] - 2s 10ms/step - loss: 0.0594 - sparse_categorical_accuracy: 0.9818 - mean_absolute_error: 4.3642\n",
      "Epoch 18/20\n",
      "235/235 [==============================] - 2s 10ms/step - loss: 0.0598 - sparse_categorical_accuracy: 0.9827 - mean_absolute_error: 4.3588\n",
      "Epoch 19/20\n",
      "235/235 [==============================] - 2s 10ms/step - loss: 0.0562 - sparse_categorical_accuracy: 0.9827 - mean_absolute_error: 4.3699\n",
      "Epoch 20/20\n",
      "235/235 [==============================] - 2s 10ms/step - loss: 0.0546 - sparse_categorical_accuracy: 0.9835 - mean_absolute_error: 4.3753\n"
     ]
    }
   ],
   "source": [
    "#fit the model\n",
    "history = model.fit(X_train[..., np.newaxis], Y_train, epochs=20, batch_size=256)"
   ]
  },
  {
   "cell_type": "markdown",
   "id": "1ee1c03a",
   "metadata": {},
   "source": [
    "### plot training"
   ]
  },
  {
   "cell_type": "code",
   "execution_count": 13,
   "id": "512ac0fe",
   "metadata": {},
   "outputs": [
    {
     "data": {
      "text/plain": [
       "<tensorflow.python.keras.callbacks.History at 0x7f42b8c16a00>"
      ]
     },
     "execution_count": 13,
     "metadata": {},
     "output_type": "execute_result"
    }
   ],
   "source": [
    "history"
   ]
  },
  {
   "cell_type": "code",
   "execution_count": 14,
   "id": "01d83cf6",
   "metadata": {},
   "outputs": [
    {
     "data": {
      "text/html": [
       "<div>\n",
       "<style scoped>\n",
       "    .dataframe tbody tr th:only-of-type {\n",
       "        vertical-align: middle;\n",
       "    }\n",
       "\n",
       "    .dataframe tbody tr th {\n",
       "        vertical-align: top;\n",
       "    }\n",
       "\n",
       "    .dataframe thead th {\n",
       "        text-align: right;\n",
       "    }\n",
       "</style>\n",
       "<table border=\"1\" class=\"dataframe\">\n",
       "  <thead>\n",
       "    <tr style=\"text-align: right;\">\n",
       "      <th></th>\n",
       "      <th>loss</th>\n",
       "      <th>sparse_categorical_accuracy</th>\n",
       "      <th>mean_absolute_error</th>\n",
       "    </tr>\n",
       "  </thead>\n",
       "  <tbody>\n",
       "    <tr>\n",
       "      <th>0</th>\n",
       "      <td>0.734136</td>\n",
       "      <td>0.809467</td>\n",
       "      <td>4.373677</td>\n",
       "    </tr>\n",
       "    <tr>\n",
       "      <th>1</th>\n",
       "      <td>0.241917</td>\n",
       "      <td>0.931083</td>\n",
       "      <td>4.373677</td>\n",
       "    </tr>\n",
       "    <tr>\n",
       "      <th>2</th>\n",
       "      <td>0.176578</td>\n",
       "      <td>0.949183</td>\n",
       "      <td>4.373677</td>\n",
       "    </tr>\n",
       "    <tr>\n",
       "      <th>3</th>\n",
       "      <td>0.143314</td>\n",
       "      <td>0.959600</td>\n",
       "      <td>4.373677</td>\n",
       "    </tr>\n",
       "    <tr>\n",
       "      <th>4</th>\n",
       "      <td>0.123771</td>\n",
       "      <td>0.964950</td>\n",
       "      <td>4.373676</td>\n",
       "    </tr>\n",
       "  </tbody>\n",
       "</table>\n",
       "</div>"
      ],
      "text/plain": [
       "       loss  sparse_categorical_accuracy  mean_absolute_error\n",
       "0  0.734136                     0.809467             4.373677\n",
       "1  0.241917                     0.931083             4.373677\n",
       "2  0.176578                     0.949183             4.373677\n",
       "3  0.143314                     0.959600             4.373677\n",
       "4  0.123771                     0.964950             4.373676"
      ]
     },
     "execution_count": 14,
     "metadata": {},
     "output_type": "execute_result"
    }
   ],
   "source": [
    "df = pd.DataFrame(history.history)\n",
    "df.head()"
   ]
  },
  {
   "cell_type": "code",
   "execution_count": 15,
   "id": "46afb6dd",
   "metadata": {},
   "outputs": [
    {
     "data": {
      "text/plain": [
       "[Text(0.5, 0, 'Epochs'), Text(0, 0.5, 'Loss')]"
      ]
     },
     "execution_count": 15,
     "metadata": {},
     "output_type": "execute_result"
    },
    {
     "data": {
      "image/png": "[encoded data removed]",
      "text/plain": [
       "<Figure size 432x288 with 1 Axes>"
      ]
     },
     "metadata": {
      "needs_background": "light"
     },
     "output_type": "display_data"
    }
   ],
   "source": [
    "loss_plot = df.plot(y='loss', title = 'loss vs epochs', legend=False)\n",
    "loss_plot.set(xlabel='Epochs', ylabel='Loss')"
   ]
  },
  {
   "cell_type": "code",
   "execution_count": 16,
   "id": "f18b09df",
   "metadata": {},
   "outputs": [
    {
     "data": {
      "text/plain": [
       "[Text(0.5, 0, 'Epochs'), Text(0, 0.5, 'accuracy')]"
      ]
     },
     "execution_count": 16,
     "metadata": {},
     "output_type": "execute_result"
    },
    {
     "data": {
      "image/png": "[encoded data removed]",
      "text/plain": [
       "<Figure size 432x288 with 1 Axes>"
      ]
     },
     "metadata": {
      "needs_background": "light"
     },
     "output_type": "display_data"
    }
   ],
   "source": [
    "acc_plot = df.plot(y='sparse_categorical_accuracy', title = 'accuracy vs epochs', legend=False)\n",
    "acc_plot.set(xlabel='Epochs', ylabel='accuracy')"
   ]
  },
  {
   "cell_type": "markdown",
   "id": "a7524d55",
   "metadata": {},
   "source": [
    "### evaluate"
   ]
  },
  {
   "cell_type": "code",
   "execution_count": 17,
   "id": "b56b3d02",
   "metadata": {},
   "outputs": [
    {
     "name": "stdout",
     "output_type": "stream",
     "text": [
      "313/313 - 3s - loss: 0.0600 - sparse_categorical_accuracy: 0.9808 - mean_absolute_error: 4.3630\n"
     ]
    }
   ],
   "source": [
    "test_loss, test_accuracy, test_mae = model.evaluate(X_test[..., np.newaxis], Y_test, verbose=2)"
   ]
  },
  {
   "cell_type": "code",
   "execution_count": 18,
   "id": "ee1981b0",
   "metadata": {},
   "outputs": [
    {
     "data": {
      "text/plain": [
       "0.060005445033311844"
      ]
     },
     "execution_count": 18,
     "metadata": {},
     "output_type": "execute_result"
    }
   ],
   "source": [
    "test_loss"
   ]
  },
  {
   "cell_type": "markdown",
   "id": "5af1cd20",
   "metadata": {},
   "source": [
    "### Predict"
   ]
  },
  {
   "cell_type": "code",
   "execution_count": 20,
   "id": "70f707a7",
   "metadata": {},
   "outputs": [
    {
     "data": {
      "image/png": "[encoded data removed]",
      "text/plain": [
       "<Figure size 432x288 with 1 Axes>"
      ]
     },
     "metadata": {
      "needs_background": "light"
     },
     "output_type": "display_data"
    },
    {
     "name": "stdout",
     "output_type": "stream",
     "text": [
      "label:3\n"
     ]
    }
   ],
   "source": [
    "inx = 30\n",
    "\n",
    "test_image = X_test[inx]\n",
    "plt.imshow(test_image)\n",
    "plt.show()\n",
    "print(f'label:{Y_test[inx]}')"
   ]
  },
  {
   "cell_type": "code",
   "execution_count": 21,
   "id": "da5d7c18",
   "metadata": {},
   "outputs": [],
   "source": [
    "prediction = model.predict(test_image[np.newaxis,...,np.newaxis])"
   ]
  },
  {
   "cell_type": "code",
   "execution_count": 23,
   "id": "253fe42a",
   "metadata": {},
   "outputs": [
    {
     "data": {
      "text/plain": [
       "3"
      ]
     },
     "execution_count": 23,
     "metadata": {},
     "output_type": "execute_result"
    }
   ],
   "source": [
    "#print predictions\n",
    "np.argmax(prediction)"
   ]
  },
  {
   "cell_type": "markdown",
   "id": "73732ef5",
   "metadata": {},
   "source": [
    "# Thanks"
   ]
  }
 ],
 "metadata": {
  "kernelspec": {
   "display_name": "Python 3",
   "language": "python",
   "name": "python3"
  },
  "language_info": {
   "codemirror_mode": {
    "name": "ipython",
    "version": 3
   },
   "file_extension": ".py",
   "mimetype": "text/x-python",
   "name": "python",
   "nbconvert_exporter": "python",
   "pygments_lexer": "ipython3",
   "version": "3.8.2"
  }
 },
 "nbformat": 4,
 "nbformat_minor": 5
}
