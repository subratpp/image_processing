{
 "cells": [
  {
   "cell_type": "code",
   "execution_count": 1,
   "id": "4d2dfd53",
   "metadata": {},
   "outputs": [
    {
     "name": "stdout",
     "output_type": "stream",
     "text": [
      "2.4.1\n"
     ]
    }
   ],
   "source": [
    "import tensorflow as tf\n",
    "print(tf.__version__)"
   ]
  },
  {
   "cell_type": "markdown",
   "id": "70d9eb91",
   "metadata": {},
   "source": [
    "# Sequential Model API"
   ]
  },
  {
   "cell_type": "code",
   "execution_count": 2,
   "id": "5748ba2e",
   "metadata": {},
   "outputs": [],
   "source": [
    "from tensorflow.keras.models import Sequential\n",
    "from tensorflow.keras.layers import Dense, Flatten, Softmax"
   ]
  },
  {
   "cell_type": "code",
   "execution_count": 4,
   "id": "7e8a04a7",
   "metadata": {},
   "outputs": [],
   "source": [
    "model =  Sequential([Dense(16, activation='relu'),\n",
    "                    Dense(16, activation='relu'),\n",
    "                    Dense(10, activation='softmax')])\n",
    "#weights are not initialized here"
   ]
  },
  {
   "cell_type": "code",
   "execution_count": 3,
   "id": "a33580e8",
   "metadata": {},
   "outputs": [],
   "source": [
    "# add the initial input dimension to initialize the weights\n",
    "\n",
    "model =  Sequential([Flatten(input_shape=(28, 28)),\n",
    "                     Dense(16, activation='relu', name='layer_1'),\n",
    "                    Dense(16, activation='relu'),\n",
    "                    Dense(10, activation='softmax')])"
   ]
  },
  {
   "cell_type": "code",
   "execution_count": 4,
   "id": "3b3b709d",
   "metadata": {},
   "outputs": [
    {
     "data": {
      "text/plain": [
       "[<tf.Variable 'layer_1/kernel:0' shape=(784, 16) dtype=float32, numpy=\n",
       " array([[ 0.02538602, -0.03426778, -0.07791629, ..., -0.04346812,\n",
       "         -0.03013438, -0.01487678],\n",
       "        [ 0.04378834,  0.0153736 , -0.00105908, ...,  0.04872558,\n",
       "          0.00938172,  0.06183191],\n",
       "        [-0.0323507 , -0.06716639, -0.00285297, ..., -0.07692802,\n",
       "          0.05680972,  0.06194384],\n",
       "        ...,\n",
       "        [ 0.03198528,  0.01143979, -0.03314772, ...,  0.0233821 ,\n",
       "         -0.00523664,  0.03298626],\n",
       "        [-0.0510334 ,  0.03942905,  0.05763724, ...,  0.06961794,\n",
       "          0.01136139,  0.02247064],\n",
       "        [ 0.04633969,  0.01366693, -0.00966156, ...,  0.03069183,\n",
       "         -0.07189957,  0.03627409]], dtype=float32)>,\n",
       " <tf.Variable 'layer_1/bias:0' shape=(16,) dtype=float32, numpy=\n",
       " array([0., 0., 0., 0., 0., 0., 0., 0., 0., 0., 0., 0., 0., 0., 0., 0.],\n",
       "       dtype=float32)>,\n",
       " <tf.Variable 'dense/kernel:0' shape=(16, 16) dtype=float32, numpy=\n",
       " array([[ 2.72369117e-01, -2.04691663e-01, -2.10178778e-01,\n",
       "          2.98173100e-01, -1.09063894e-01, -2.24857807e-01,\n",
       "          4.61619496e-02, -4.06361431e-01,  5.89259267e-02,\n",
       "          2.27997094e-01, -4.82277572e-02, -3.11545432e-01,\n",
       "          3.63216370e-01,  2.66360432e-01, -2.06172466e-04,\n",
       "          2.00105220e-01],\n",
       "        [-1.50991946e-01, -3.14455807e-01,  1.97342724e-01,\n",
       "          1.25164986e-02,  2.05601901e-01, -2.96854526e-01,\n",
       "          1.40198797e-01,  3.50084394e-01, -4.10818338e-01,\n",
       "          3.30073804e-01,  1.76033765e-01,  2.33233958e-01,\n",
       "          1.29477590e-01, -7.53652751e-02, -4.07725930e-01,\n",
       "         -6.16805255e-02],\n",
       "        [ 3.54750425e-01,  4.32865888e-01, -1.88284203e-01,\n",
       "          3.64207298e-01, -7.94371963e-02, -4.11864847e-01,\n",
       "          1.23913795e-01,  4.13429648e-01, -1.96880445e-01,\n",
       "          2.48541921e-01, -1.50967807e-01,  3.43797475e-01,\n",
       "         -4.71293032e-02, -8.61286819e-02,  1.28513604e-01,\n",
       "         -4.20899332e-01],\n",
       "        [-1.75004572e-01, -2.14784145e-02, -5.18717468e-02,\n",
       "         -3.47547710e-01,  5.21953106e-02, -3.48068774e-01,\n",
       "          2.70632833e-01, -5.42661548e-02, -5.76817095e-02,\n",
       "         -2.07121879e-01,  2.44274110e-01, -3.46940786e-01,\n",
       "          3.37503165e-01,  8.46028328e-03, -1.78380668e-01,\n",
       "          3.66406947e-01],\n",
       "        [-3.59526753e-01,  3.75029236e-01, -2.73019612e-01,\n",
       "          7.88229406e-02,  1.10359788e-02, -3.55490774e-01,\n",
       "         -2.54934013e-01, -9.69132781e-02,  3.32353443e-01,\n",
       "         -2.92943120e-01, -3.56317610e-01, -2.08380669e-01,\n",
       "          1.49663597e-01,  4.85581160e-02, -2.04182595e-01,\n",
       "         -1.13969743e-02],\n",
       "        [ 1.20619267e-01,  3.39972168e-01, -1.54116064e-01,\n",
       "         -3.41420829e-01,  4.09422547e-01, -3.95332366e-01,\n",
       "         -1.44732326e-01, -2.36048996e-02,  3.58433694e-01,\n",
       "          9.63583589e-03,  1.37930483e-01,  3.46574694e-01,\n",
       "         -2.01060668e-01,  1.08264238e-01,  1.49625808e-01,\n",
       "          3.15077037e-01],\n",
       "        [ 3.07334453e-01,  7.27274120e-02, -1.90540165e-01,\n",
       "         -2.76587605e-01,  1.77853316e-01,  3.87094915e-02,\n",
       "         -7.39471018e-02, -3.81292492e-01, -2.07882851e-01,\n",
       "          3.36577326e-01, -9.33370888e-02,  1.08240247e-02,\n",
       "          2.06151932e-01, -3.22331160e-01,  7.05532134e-02,\n",
       "         -1.11929893e-01],\n",
       "        [ 2.84348220e-01, -3.82700980e-01,  2.85993129e-01,\n",
       "         -7.66819715e-02, -1.20492488e-01,  2.98278004e-01,\n",
       "         -7.88059831e-03, -2.48782247e-01,  5.31128943e-02,\n",
       "          2.70470411e-01, -1.21819973e-03,  3.59469354e-02,\n",
       "          6.71857297e-02,  1.57692820e-01, -3.26832354e-01,\n",
       "         -2.74609357e-01],\n",
       "        [ 1.77070886e-01,  3.17873925e-01,  1.98896915e-01,\n",
       "          6.15289807e-02, -4.10054356e-01, -2.22842798e-01,\n",
       "          2.53218085e-01, -5.77764809e-02, -5.22935987e-02,\n",
       "          3.09111387e-01,  1.71926826e-01,  4.71835136e-02,\n",
       "          1.14064544e-01,  2.05738395e-01, -1.77263319e-02,\n",
       "          3.78692836e-01],\n",
       "        [ 1.63213700e-01,  1.11275345e-01,  1.90897077e-01,\n",
       "          2.39257783e-01,  3.46776515e-01, -1.83651701e-01,\n",
       "         -1.63015693e-01, -4.12054300e-01, -2.86168933e-01,\n",
       "          3.11663955e-01, -6.19865358e-02, -1.70538574e-01,\n",
       "          6.46508932e-02,  7.17094839e-02,  1.90390497e-01,\n",
       "         -1.56132281e-02],\n",
       "        [-1.80260718e-01,  1.78911597e-01,  4.12416458e-03,\n",
       "         -1.65878713e-01, -1.31675988e-01, -2.80268073e-01,\n",
       "          3.38276833e-01,  2.26595014e-01, -2.79849112e-01,\n",
       "          3.60284418e-01,  3.35467488e-01,  3.78689855e-01,\n",
       "         -3.22791994e-01,  2.94202656e-01, -9.95773375e-02,\n",
       "         -2.07456946e-03],\n",
       "        [ 3.84476453e-01,  1.10531121e-01,  2.00617462e-01,\n",
       "         -1.13573670e-03,  2.24310964e-01, -4.11895096e-01,\n",
       "         -9.84196365e-02, -1.45947933e-03,  8.23074281e-02,\n",
       "         -1.10412210e-01, -6.68119788e-02, -9.08010602e-02,\n",
       "          3.59261960e-01,  4.56611514e-02,  2.64462799e-01,\n",
       "          3.80256772e-03],\n",
       "        [-3.88086587e-01, -8.09588432e-02, -3.45427722e-01,\n",
       "          3.55935693e-02,  5.48586249e-03, -4.09626842e-01,\n",
       "          2.80069321e-01, -4.09074306e-01, -3.37301224e-01,\n",
       "          3.28205824e-02,  1.52052969e-01, -1.07058406e-01,\n",
       "          3.59176785e-01, -2.48579487e-01, -1.62253499e-01,\n",
       "         -3.24012339e-02],\n",
       "        [ 3.07763189e-01, -4.44624424e-02,  3.43389064e-01,\n",
       "          1.06847584e-02,  4.00807709e-01,  1.33158177e-01,\n",
       "         -3.84863198e-01,  3.54727715e-01, -1.88139975e-01,\n",
       "          3.41078728e-01,  1.20694935e-02,  5.45663834e-02,\n",
       "         -3.23671907e-01,  1.61555916e-01, -2.87287831e-01,\n",
       "          1.76428646e-01],\n",
       "        [-8.16332996e-02,  9.54140723e-02, -3.69872481e-01,\n",
       "          2.93943077e-01,  6.82773292e-02, -1.03336871e-01,\n",
       "          2.26318747e-01,  4.13409203e-01, -8.53764117e-02,\n",
       "          1.17388755e-01,  4.97540236e-02,  4.24066812e-01,\n",
       "         -3.02029848e-02, -3.81213516e-01, -1.31997466e-02,\n",
       "         -7.80203640e-02],\n",
       "        [ 1.09442681e-01, -2.27600634e-01,  1.80891544e-01,\n",
       "         -3.09456527e-01, -2.04618871e-01, -1.47385240e-01,\n",
       "          2.83372611e-01,  1.72929168e-02, -1.80256188e-01,\n",
       "          1.07791156e-01,  2.23201513e-03, -2.00749606e-01,\n",
       "          1.36163205e-01,  3.43141258e-02,  3.02657038e-01,\n",
       "          1.29351467e-01]], dtype=float32)>,\n",
       " <tf.Variable 'dense/bias:0' shape=(16,) dtype=float32, numpy=\n",
       " array([0., 0., 0., 0., 0., 0., 0., 0., 0., 0., 0., 0., 0., 0., 0., 0.],\n",
       "       dtype=float32)>,\n",
       " <tf.Variable 'dense_1/kernel:0' shape=(16, 10) dtype=float32, numpy=\n",
       " array([[-0.41633305,  0.23976445, -0.32385862,  0.36827564, -0.07385543,\n",
       "          0.23480839, -0.02107263, -0.41072357,  0.4148007 ,  0.28871256],\n",
       "        [ 0.25086874, -0.29622993,  0.36948705, -0.27113193, -0.10283753,\n",
       "         -0.22376859, -0.2129691 , -0.3621527 , -0.17993012, -0.01460564],\n",
       "        [ 0.14302969, -0.2506154 , -0.02781951,  0.0995121 ,  0.20054394,\n",
       "          0.1214366 , -0.33046418,  0.19139117, -0.2552669 , -0.08099997],\n",
       "        [-0.39446247,  0.06081176,  0.21903408, -0.4489518 ,  0.16167879,\n",
       "         -0.29622477,  0.4323573 , -0.02049261, -0.25549597,  0.10780013],\n",
       "        [-0.44730815,  0.34284228,  0.16487515, -0.19338551,  0.45450616,\n",
       "         -0.00288302, -0.43835008,  0.26099825,  0.37221462, -0.04884127],\n",
       "        [-0.3948679 ,  0.25459194,  0.02451545, -0.42642978,  0.04169077,\n",
       "         -0.18097854, -0.4444186 , -0.20542437, -0.3175174 , -0.27493122],\n",
       "        [-0.04778814,  0.3536299 ,  0.02461487,  0.45346326, -0.0081633 ,\n",
       "          0.21413606,  0.10641921,  0.34258217, -0.2672735 , -0.01757249],\n",
       "        [-0.1704357 ,  0.4769842 , -0.23788543,  0.18459743, -0.27742207,\n",
       "          0.47450233,  0.24011755,  0.13568538, -0.15100652, -0.25308093],\n",
       "        [ 0.12278956,  0.22766936, -0.417979  , -0.19121742, -0.24125658,\n",
       "          0.29215407,  0.19222212, -0.2371751 , -0.42866796, -0.06783742],\n",
       "        [-0.39756185, -0.26227826, -0.26903978,  0.39167166,  0.08541667,\n",
       "         -0.07011846, -0.06521279, -0.14450896,  0.2612129 ,  0.41998124],\n",
       "        [-0.46194187,  0.25105304, -0.05739206, -0.11630267,  0.41436982,\n",
       "         -0.21149817,  0.10788703,  0.19372874, -0.28787065,  0.03734654],\n",
       "        [ 0.36888927, -0.15844256, -0.10776314, -0.4022539 , -0.05873576,\n",
       "          0.13550192, -0.00450319,  0.25382495,  0.16533226,  0.15795839],\n",
       "        [-0.27119082, -0.29605162, -0.20539218, -0.31308788,  0.31129885,\n",
       "          0.06044775,  0.33755583,  0.06681281,  0.16150618,  0.13754392],\n",
       "        [-0.41183132,  0.25665963,  0.16960555,  0.17515433, -0.32195693,\n",
       "         -0.11577058, -0.09627986, -0.4177985 , -0.2448134 ,  0.0349654 ],\n",
       "        [-0.18200245,  0.26599622,  0.00459629, -0.16910553, -0.12754795,\n",
       "          0.02831018,  0.22839493, -0.4258516 , -0.12234268,  0.44113004],\n",
       "        [-0.06868392,  0.1632393 ,  0.03535759, -0.3760997 ,  0.37877882,\n",
       "          0.00600094,  0.00637591, -0.372253  , -0.44905043,  0.2823416 ]],\n",
       "       dtype=float32)>,\n",
       " <tf.Variable 'dense_1/bias:0' shape=(10,) dtype=float32, numpy=array([0., 0., 0., 0., 0., 0., 0., 0., 0., 0.], dtype=float32)>]"
      ]
     },
     "execution_count": 4,
     "metadata": {},
     "output_type": "execute_result"
    }
   ],
   "source": [
    "model.weights #to check weights"
   ]
  },
  {
   "cell_type": "code",
   "execution_count": 5,
   "id": "ef7279e9",
   "metadata": {},
   "outputs": [
    {
     "name": "stdout",
     "output_type": "stream",
     "text": [
      "Model: \"sequential\"\n",
      "_________________________________________________________________\n",
      "Layer (type)                 Output Shape              Param #   \n",
      "=================================================================\n",
      "flatten (Flatten)            (None, 784)               0         \n",
      "_________________________________________________________________\n",
      "layer_1 (Dense)              (None, 16)                12560     \n",
      "_________________________________________________________________\n",
      "dense (Dense)                (None, 16)                272       \n",
      "_________________________________________________________________\n",
      "dense_1 (Dense)              (None, 10)                170       \n",
      "=================================================================\n",
      "Total params: 13,002\n",
      "Trainable params: 13,002\n",
      "Non-trainable params: 0\n",
      "_________________________________________________________________\n"
     ]
    }
   ],
   "source": [
    "model.summary() #to check the summary"
   ]
  },
  {
   "cell_type": "markdown",
   "id": "9ed8bc92",
   "metadata": {},
   "source": [
    "## Convolution and Pooling Layer"
   ]
  },
  {
   "cell_type": "code",
   "execution_count": 6,
   "id": "60d2c2a3",
   "metadata": {},
   "outputs": [],
   "source": [
    "from tensorflow.keras.models import Sequential\n",
    "from tensorflow.keras.layers import Dense, Flatten, Conv2D, MaxPooling2D"
   ]
  },
  {
   "cell_type": "code",
   "execution_count": 10,
   "id": "542c3cea",
   "metadata": {},
   "outputs": [],
   "source": [
    "model = Sequential([Conv2D( 16, (3,3), padding='SAME', activation='relu', input_shape=(28,28,1) ),\n",
    "                   MaxPooling2D((3,3)),\n",
    "                   Flatten(),\n",
    "                   Dense(10, activation='softmax')])"
   ]
  },
  {
   "cell_type": "code",
   "execution_count": 11,
   "id": "3f61dbba",
   "metadata": {},
   "outputs": [
    {
     "name": "stdout",
     "output_type": "stream",
     "text": [
      "Model: \"sequential_2\"\n",
      "_________________________________________________________________\n",
      "Layer (type)                 Output Shape              Param #   \n",
      "=================================================================\n",
      "conv2d_1 (Conv2D)            (None, 28, 28, 16)        160       \n",
      "_________________________________________________________________\n",
      "max_pooling2d (MaxPooling2D) (None, 9, 9, 16)          0         \n",
      "_________________________________________________________________\n",
      "flatten_1 (Flatten)          (None, 1296)              0         \n",
      "_________________________________________________________________\n",
      "dense_2 (Dense)              (None, 10)                12970     \n",
      "=================================================================\n",
      "Total params: 13,130\n",
      "Trainable params: 13,130\n",
      "Non-trainable params: 0\n",
      "_________________________________________________________________\n"
     ]
    }
   ],
   "source": [
    "model.summary()"
   ]
  },
  {
   "cell_type": "code",
   "execution_count": 12,
   "id": "8c37f2c9",
   "metadata": {},
   "outputs": [],
   "source": [
    "#channel first\n",
    "model = Sequential([Conv2D( 16, (3,3), padding='SAME', activation='relu', input_shape=(1, 28,28), data_format='channels_first' ),\n",
    "                   MaxPooling2D((3,3), data_format='channels_first'),\n",
    "                   Flatten(),\n",
    "                   Dense(10, activation='softmax')])"
   ]
  },
  {
   "cell_type": "code",
   "execution_count": 13,
   "id": "76b85b1f",
   "metadata": {},
   "outputs": [
    {
     "name": "stdout",
     "output_type": "stream",
     "text": [
      "Model: \"sequential_3\"\n",
      "_________________________________________________________________\n",
      "Layer (type)                 Output Shape              Param #   \n",
      "=================================================================\n",
      "conv2d_2 (Conv2D)            (None, 16, 28, 28)        160       \n",
      "_________________________________________________________________\n",
      "max_pooling2d_1 (MaxPooling2 (None, 16, 9, 9)          0         \n",
      "_________________________________________________________________\n",
      "flatten_2 (Flatten)          (None, 1296)              0         \n",
      "_________________________________________________________________\n",
      "dense_3 (Dense)              (None, 10)                12970     \n",
      "=================================================================\n",
      "Total params: 13,130\n",
      "Trainable params: 13,130\n",
      "Non-trainable params: 0\n",
      "_________________________________________________________________\n"
     ]
    }
   ],
   "source": [
    "model.summary()"
   ]
  },
  {
   "cell_type": "markdown",
   "id": "75dc33b1",
   "metadata": {},
   "source": [
    "## Weight Initialising"
   ]
  },
  {
   "cell_type": "code",
   "execution_count": 14,
   "id": "0cdd68c2",
   "metadata": {},
   "outputs": [],
   "source": [
    "from tensorflow.keras.models import Sequential\n",
    "from tensorflow.keras.layers import Flatten, Dense, Conv1D, MaxPooling1D "
   ]
  },
  {
   "cell_type": "code",
   "execution_count": 15,
   "id": "8e1bba8e",
   "metadata": {},
   "outputs": [],
   "source": [
    "%matplotlib inline"
   ]
  },
  {
   "cell_type": "code",
   "execution_count": 16,
   "id": "6135db33",
   "metadata": {},
   "outputs": [],
   "source": [
    "# Construct a model\n",
    "\n",
    "model = Sequential([\n",
    "    Conv1D(filters=16, kernel_size=3, input_shape=(128, 64), kernel_initializer='random_uniform', bias_initializer=\"zeros\", activation='relu'),\n",
    "    MaxPooling1D(pool_size=4),\n",
    "    Flatten(),\n",
    "    Dense(64, kernel_initializer='he_uniform', bias_initializer='ones', activation='relu'),\n",
    "])"
   ]
  },
  {
   "cell_type": "code",
   "execution_count": 17,
   "id": "315b7baf",
   "metadata": {},
   "outputs": [],
   "source": [
    "# Add some layers to our model\n",
    "\n",
    "model.add(Dense(64, \n",
    "                kernel_initializer=tf.keras.initializers.RandomNormal(mean=0.0, stddev=0.05), \n",
    "                bias_initializer=tf.keras.initializers.Constant(value=0.4), \n",
    "                activation='relu'),)\n",
    "\n",
    "model.add(Dense(8, \n",
    "                kernel_initializer=tf.keras.initializers.Orthogonal(gain=1.0, seed=None), \n",
    "                bias_initializer=tf.keras.initializers.Constant(value=0.4), \n",
    "                activation='relu'))"
   ]
  },
  {
   "cell_type": "code",
   "execution_count": 18,
   "id": "b304a04a",
   "metadata": {},
   "outputs": [],
   "source": [
    "#custom weight and bias\n",
    "import tensorflow.keras.backend as K\n",
    "\n",
    "# Define a custom initializer\n",
    "\n",
    "def my_init(shape, dtype=None):\n",
    "    return K.random_normal(shape, dtype=dtype)\n",
    "\n",
    "model.add(Dense(64, kernel_initializer=my_init))"
   ]
  },
  {
   "cell_type": "code",
   "execution_count": 19,
   "id": "e621fed9",
   "metadata": {},
   "outputs": [
    {
     "name": "stdout",
     "output_type": "stream",
     "text": [
      "Model: \"sequential_4\"\n",
      "_________________________________________________________________\n",
      "Layer (type)                 Output Shape              Param #   \n",
      "=================================================================\n",
      "conv1d (Conv1D)              (None, 126, 16)           3088      \n",
      "_________________________________________________________________\n",
      "max_pooling1d (MaxPooling1D) (None, 31, 16)            0         \n",
      "_________________________________________________________________\n",
      "flatten_3 (Flatten)          (None, 496)               0         \n",
      "_________________________________________________________________\n",
      "dense_4 (Dense)              (None, 64)                31808     \n",
      "_________________________________________________________________\n",
      "dense_5 (Dense)              (None, 64)                4160      \n",
      "_________________________________________________________________\n",
      "dense_6 (Dense)              (None, 8)                 520       \n",
      "_________________________________________________________________\n",
      "dense_7 (Dense)              (None, 64)                576       \n",
      "=================================================================\n",
      "Total params: 40,152\n",
      "Trainable params: 40,152\n",
      "Non-trainable params: 0\n",
      "_________________________________________________________________\n"
     ]
    }
   ],
   "source": [
    "model.summary()"
   ]
  },
  {
   "cell_type": "code",
   "execution_count": 20,
   "id": "5b0a3814",
   "metadata": {},
   "outputs": [
    {
     "data": {
      "image/png": "[encoded data removed]",
      "text/plain": [
       "<Figure size 864x1152 with 10 Axes>"
      ]
     },
     "metadata": {
      "needs_background": "light"
     },
     "output_type": "display_data"
    }
   ],
   "source": [
    "import matplotlib.pyplot as plt\n",
    "\n",
    "# Plot histograms of weight and bias values\n",
    "\n",
    "fig, axes = plt.subplots(5, 2, figsize=(12,16))\n",
    "fig.subplots_adjust(hspace=0.5, wspace=0.5)\n",
    "\n",
    "# Filter out the pooling and flatten layers, that don't have any weights\n",
    "weight_layers = [layer for layer in model.layers if len(layer.weights) > 0]\n",
    "\n",
    "for i, layer in enumerate(weight_layers):\n",
    "    for j in [0, 1]:\n",
    "        axes[i, j].hist(layer.weights[j].numpy().flatten(), align='left')\n",
    "        axes[i, j].set_title(layer.weights[j].name)"
   ]
  },
  {
   "cell_type": "code",
   "execution_count": 27,
   "id": "79dbedcd",
   "metadata": {},
   "outputs": [
    {
     "data": {
      "text/plain": [
       "[<tf.Variable 'conv1d/kernel:0' shape=(3, 64, 16) dtype=float32, numpy=\n",
       " array([[[ 0.02337965, -0.03214063, -0.02200521, ...,  0.00693613,\n",
       "          -0.04812172,  0.02507276],\n",
       "         [ 0.02199114,  0.02416776, -0.04854736, ..., -0.00122281,\n",
       "          -0.03158519,  0.01471366],\n",
       "         [-0.00704501,  0.01702141, -0.0400878 , ...,  0.01874467,\n",
       "          -0.00940776,  0.02654728],\n",
       "         ...,\n",
       "         [-0.00181808, -0.03718961,  0.00546797, ...,  0.0077014 ,\n",
       "           0.03515604, -0.0475377 ],\n",
       "         [ 0.0108104 ,  0.0162526 , -0.01080912, ...,  0.00223918,\n",
       "           0.04407544, -0.02335483],\n",
       "         [ 0.03374987,  0.00956967,  0.02341348, ..., -0.0405171 ,\n",
       "           0.00965909, -0.04367802]],\n",
       " \n",
       "        [[-0.04887831, -0.04821552,  0.02676289, ..., -0.01207808,\n",
       "          -0.03409256,  0.04134798],\n",
       "         [ 0.03016502,  0.04829792,  0.03834237, ..., -0.01603898,\n",
       "          -0.03845054, -0.017515  ],\n",
       "         [-0.00216281, -0.04926044,  0.03905395, ..., -0.04022882,\n",
       "          -0.0300935 ,  0.01515104],\n",
       "         ...,\n",
       "         [-0.00539578,  0.01616236, -0.00285017, ...,  0.00037471,\n",
       "          -0.03195085,  0.0435716 ],\n",
       "         [ 0.0059814 , -0.00131812, -0.02941117, ...,  0.04547277,\n",
       "          -0.0032497 , -0.03698701],\n",
       "         [-0.02958078, -0.03680338, -0.02069887, ...,  0.03444672,\n",
       "          -0.04937686, -0.04967597]],\n",
       " \n",
       "        [[ 0.04493738,  0.01217021,  0.0200105 , ...,  0.01018536,\n",
       "          -0.03009929, -0.04854615],\n",
       "         [ 0.01295782,  0.0122156 , -0.02956253, ..., -0.02099412,\n",
       "          -0.02094489,  0.04598913],\n",
       "         [-0.01803356, -0.00531439, -0.04180823, ..., -0.04707029,\n",
       "           0.01317997, -0.00766598],\n",
       "         ...,\n",
       "         [ 0.01329476,  0.00023564, -0.01178617, ...,  0.04467514,\n",
       "           0.00281805, -0.04651001],\n",
       "         [-0.0335631 , -0.02809995, -0.03688041, ..., -0.04558603,\n",
       "          -0.01339155, -0.04908612],\n",
       "         [-0.03684666, -0.00684285, -0.04651927, ..., -0.01080586,\n",
       "          -0.00771669, -0.02124332]]], dtype=float32)>,\n",
       " <tf.Variable 'conv1d/bias:0' shape=(16,) dtype=float32, numpy=\n",
       " array([0., 0., 0., 0., 0., 0., 0., 0., 0., 0., 0., 0., 0., 0., 0., 0.],\n",
       "       dtype=float32)>]"
      ]
     },
     "execution_count": 27,
     "metadata": {},
     "output_type": "execute_result"
    }
   ],
   "source": [
    "model.layers[0].weights"
   ]
  },
  {
   "cell_type": "markdown",
   "id": "ba40377d",
   "metadata": {},
   "source": [
    "## Compile the Model"
   ]
  },
  {
   "cell_type": "code",
   "execution_count": 42,
   "id": "63360e54",
   "metadata": {},
   "outputs": [],
   "source": [
    "# Define the model optimizer, loss function and metrics\n",
    "\n",
    "opt = tf.keras.optimizers.Adam(learning_rate = 0.005)\n",
    "acc = tf.keras.metrics.SparseCategoricalAccuracy()\n",
    "mae = tf.keras.metrics.MeanAbsoluteError()\n",
    "\n",
    "model.compile(optimizer='adam',\n",
    "             loss = 'sparse_categorical_crossentropy',\n",
    "             metrics=[acc, mae])"
   ]
  },
  {
   "cell_type": "code",
   "execution_count": 43,
   "id": "bfcea4ed",
   "metadata": {},
   "outputs": [
    {
     "name": "stdout",
     "output_type": "stream",
     "text": [
      "sparse_categorical_crossentropy\n",
      "<tensorflow.python.keras.optimizer_v2.adam.Adam object at 0x7fdb59319dc0>\n",
      "[]\n"
     ]
    }
   ],
   "source": [
    "print(model.loss)\n",
    "print(model.optimizer)\n",
    "print(model.metrics)"
   ]
  },
  {
   "cell_type": "code",
   "execution_count": 45,
   "id": "de21947d",
   "metadata": {},
   "outputs": [
    {
     "data": {
      "text/plain": [
       "'sparse_categorical_crossentropy'"
      ]
     },
     "execution_count": 45,
     "metadata": {},
     "output_type": "execute_result"
    }
   ],
   "source": [
    "model.loss"
   ]
  },
  {
   "cell_type": "code",
   "execution_count": 47,
   "id": "544690e7",
   "metadata": {},
   "outputs": [
    {
     "data": {
      "text/plain": [
       "[]"
      ]
     },
     "execution_count": 47,
     "metadata": {},
     "output_type": "execute_result"
    }
   ],
   "source": [
    "model.metrics #not working here, some error with tf"
   ]
  },
  {
   "cell_type": "markdown",
   "id": "12aa1d0a",
   "metadata": {},
   "source": [
    "## Training: Fit Method: Fashion Data"
   ]
  },
  {
   "cell_type": "code",
   "execution_count": 48,
   "id": "89eff797",
   "metadata": {},
   "outputs": [],
   "source": [
    "from tensorflow.keras.preprocessing import image\n",
    "import matplotlib.pyplot as plt\n",
    "import numpy as np\n",
    "import pandas as pd"
   ]
  },
  {
   "cell_type": "code",
   "execution_count": 49,
   "id": "50fbc46a",
   "metadata": {},
   "outputs": [
    {
     "name": "stdout",
     "output_type": "stream",
     "text": [
      "Downloading data from https://storage.googleapis.com/tensorflow/tf-keras-datasets/train-labels-idx1-ubyte.gz\n",
      "32768/29515 [=================================] - 0s 2us/step\n",
      "Downloading data from https://storage.googleapis.com/tensorflow/tf-keras-datasets/train-images-idx3-ubyte.gz\n",
      "26427392/26421880 [==============================] - 42s 2us/step\n",
      "Downloading data from https://storage.googleapis.com/tensorflow/tf-keras-datasets/t10k-labels-idx1-ubyte.gz\n",
      "8192/5148 [===============================================] - 0s 1us/step\n",
      "Downloading data from https://storage.googleapis.com/tensorflow/tf-keras-datasets/t10k-images-idx3-ubyte.gz\n",
      "4423680/4422102 [==============================] - 7s 2us/step\n"
     ]
    }
   ],
   "source": [
    "# Load the Fashion-MNIST dataset\n",
    "\n",
    "fashion_mnist_data = tf.keras.datasets.fashion_mnist\n",
    "(train_images, train_labels), (test_images, test_labels) = fashion_mnist_data.load_data()"
   ]
  },
  {
   "cell_type": "code",
   "execution_count": 51,
   "id": "793a1cd7",
   "metadata": {},
   "outputs": [],
   "source": [
    "model = Sequential([Conv2D(16, (3,3), activation='relu', input_shape=(28,28,1) ),\n",
    "                   MaxPooling2D((3,3)),\n",
    "                   Flatten(),\n",
    "                   Dense(10, activation='softmax')])"
   ]
  },
  {
   "cell_type": "code",
   "execution_count": 52,
   "id": "1951e224",
   "metadata": {},
   "outputs": [
    {
     "name": "stdout",
     "output_type": "stream",
     "text": [
      "Model: \"sequential_5\"\n",
      "_________________________________________________________________\n",
      "Layer (type)                 Output Shape              Param #   \n",
      "=================================================================\n",
      "conv2d_3 (Conv2D)            (None, 26, 26, 16)        160       \n",
      "_________________________________________________________________\n",
      "max_pooling2d_2 (MaxPooling2 (None, 8, 8, 16)          0         \n",
      "_________________________________________________________________\n",
      "flatten_4 (Flatten)          (None, 1024)              0         \n",
      "_________________________________________________________________\n",
      "dense_8 (Dense)              (None, 10)                10250     \n",
      "=================================================================\n",
      "Total params: 10,410\n",
      "Trainable params: 10,410\n",
      "Non-trainable params: 0\n",
      "_________________________________________________________________\n"
     ]
    }
   ],
   "source": [
    "model.summary()"
   ]
  },
  {
   "cell_type": "code",
   "execution_count": 53,
   "id": "904389be",
   "metadata": {},
   "outputs": [],
   "source": [
    "#compile method\n",
    "opt = tf.keras.optimizers.Adam(learning_rate = 0.005)\n",
    "acc = tf.keras.metrics.SparseCategoricalAccuracy()\n",
    "mae = tf.keras.metrics.MeanAbsoluteError()\n",
    "\n",
    "model.compile(optimizer='adam',\n",
    "             loss = 'sparse_categorical_crossentropy',\n",
    "             metrics=[acc, mae])"
   ]
  },
  {
   "cell_type": "code",
   "execution_count": 65,
   "id": "b882c8e9",
   "metadata": {},
   "outputs": [
    {
     "data": {
      "text/plain": [
       "[<tensorflow.python.keras.metrics.Mean at 0x7fdb592c8a90>,\n",
       " <tensorflow.python.keras.metrics.SparseCategoricalAccuracy at 0x7fdb9850d5e0>,\n",
       " <tensorflow.python.keras.metrics.MeanAbsoluteError at 0x7fdb59070e20>]"
      ]
     },
     "execution_count": 65,
     "metadata": {},
     "output_type": "execute_result"
    }
   ],
   "source": [
    "model.metrics"
   ]
  },
  {
   "cell_type": "code",
   "execution_count": 54,
   "id": "22bf9d4a",
   "metadata": {},
   "outputs": [
    {
     "data": {
      "text/plain": [
       "(60000, 28, 28)"
      ]
     },
     "execution_count": 54,
     "metadata": {},
     "output_type": "execute_result"
    }
   ],
   "source": [
    "train_images.shape"
   ]
  },
  {
   "cell_type": "code",
   "execution_count": 55,
   "id": "54fa204b",
   "metadata": {},
   "outputs": [],
   "source": [
    "# Define the labels\n",
    "\n",
    "labels = [\n",
    "    'T-shirt/top',\n",
    "    'Trouser',\n",
    "    'Pullover',\n",
    "    'Dress',\n",
    "    'Coat',\n",
    "    'Sandal',\n",
    "    'Shirt',\n",
    "    'Sneaker',\n",
    "    'Bag',\n",
    "    'Ankle boot'\n",
    "]"
   ]
  },
  {
   "cell_type": "code",
   "execution_count": 56,
   "id": "c10eaaaa",
   "metadata": {},
   "outputs": [],
   "source": [
    "train_images = train_images/255.\n",
    "test_images = test_images/255."
   ]
  },
  {
   "cell_type": "code",
   "execution_count": 57,
   "id": "c150490d",
   "metadata": {},
   "outputs": [
    {
     "data": {
      "image/png": "[encoded data removed]",
      "text/plain": [
       "<Figure size 432x288 with 1 Axes>"
      ]
     },
     "metadata": {
      "needs_background": "light"
     },
     "output_type": "display_data"
    },
    {
     "name": "stdout",
     "output_type": "stream",
     "text": [
      "lavel:Ankle boot\n"
     ]
    }
   ],
   "source": [
    "# Display one of the images\n",
    "\n",
    "i = 0\n",
    "img = train_images[i,:,:]\n",
    "plt.imshow(img)\n",
    "plt.show()\n",
    "print(f'lavel:{labels[train_labels[i]]}')"
   ]
  },
  {
   "cell_type": "code",
   "execution_count": 59,
   "id": "32464cf4",
   "metadata": {},
   "outputs": [
    {
     "data": {
      "text/plain": [
       "(28, 28)"
      ]
     },
     "execution_count": 59,
     "metadata": {},
     "output_type": "execute_result"
    }
   ],
   "source": [
    "img.shape"
   ]
  },
  {
   "cell_type": "code",
   "execution_count": 75,
   "id": "6903194c",
   "metadata": {},
   "outputs": [
    {
     "name": "stdout",
     "output_type": "stream",
     "text": [
      "Epoch 1/10\n",
      "235/235 [==============================] - 2s 10ms/step - loss: 0.3071 - sparse_categorical_accuracy: 0.8907 - mean_absolute_error: 4.4200\n",
      "Epoch 2/10\n",
      "235/235 [==============================] - 2s 10ms/step - loss: 0.3050 - sparse_categorical_accuracy: 0.8917 - mean_absolute_error: 4.4200\n",
      "Epoch 3/10\n",
      "235/235 [==============================] - 2s 10ms/step - loss: 0.2999 - sparse_categorical_accuracy: 0.8941 - mean_absolute_error: 4.4200\n",
      "Epoch 4/10\n",
      "235/235 [==============================] - 2s 10ms/step - loss: 0.2972 - sparse_categorical_accuracy: 0.8952 - mean_absolute_error: 4.4200\n",
      "Epoch 5/10\n",
      "235/235 [==============================] - 2s 10ms/step - loss: 0.2951 - sparse_categorical_accuracy: 0.8957 - mean_absolute_error: 4.4200\n",
      "Epoch 6/10\n",
      "235/235 [==============================] - 2s 10ms/step - loss: 0.2914 - sparse_categorical_accuracy: 0.8968 - mean_absolute_error: 4.4200\n",
      "Epoch 7/10\n",
      "235/235 [==============================] - 2s 10ms/step - loss: 0.2915 - sparse_categorical_accuracy: 0.8959 - mean_absolute_error: 4.4200\n",
      "Epoch 8/10\n",
      "235/235 [==============================] - 2s 10ms/step - loss: 0.2883 - sparse_categorical_accuracy: 0.8974 - mean_absolute_error: 4.4200\n",
      "Epoch 9/10\n",
      "235/235 [==============================] - 2s 10ms/step - loss: 0.2862 - sparse_categorical_accuracy: 0.8979 - mean_absolute_error: 4.4200\n",
      "Epoch 10/10\n",
      "235/235 [==============================] - 3s 12ms/step - loss: 0.2853 - sparse_categorical_accuracy: 0.8981 - mean_absolute_error: 4.4200\n"
     ]
    }
   ],
   "source": [
    "#fit the model\n",
    "\n",
    "history = model.fit(train_images[..., np.newaxis], train_labels, epochs=20, batch_size=256)"
   ]
  },
  {
   "cell_type": "markdown",
   "id": "1ee1c03a",
   "metadata": {},
   "source": [
    "### plot training"
   ]
  },
  {
   "cell_type": "code",
   "execution_count": 76,
   "id": "512ac0fe",
   "metadata": {},
   "outputs": [
    {
     "data": {
      "text/plain": [
       "<tensorflow.python.keras.callbacks.History at 0x7fdb58354070>"
      ]
     },
     "execution_count": 76,
     "metadata": {},
     "output_type": "execute_result"
    }
   ],
   "source": [
    "history"
   ]
  },
  {
   "cell_type": "code",
   "execution_count": 77,
   "id": "01d83cf6",
   "metadata": {},
   "outputs": [
    {
     "data": {
      "text/html": [
       "<div>\n",
       "<style scoped>\n",
       "    .dataframe tbody tr th:only-of-type {\n",
       "        vertical-align: middle;\n",
       "    }\n",
       "\n",
       "    .dataframe tbody tr th {\n",
       "        vertical-align: top;\n",
       "    }\n",
       "\n",
       "    .dataframe thead th {\n",
       "        text-align: right;\n",
       "    }\n",
       "</style>\n",
       "<table border=\"1\" class=\"dataframe\">\n",
       "  <thead>\n",
       "    <tr style=\"text-align: right;\">\n",
       "      <th></th>\n",
       "      <th>loss</th>\n",
       "      <th>sparse_categorical_accuracy</th>\n",
       "      <th>mean_absolute_error</th>\n",
       "    </tr>\n",
       "  </thead>\n",
       "  <tbody>\n",
       "    <tr>\n",
       "      <th>0</th>\n",
       "      <td>0.307110</td>\n",
       "      <td>0.890667</td>\n",
       "      <td>4.419999</td>\n",
       "    </tr>\n",
       "    <tr>\n",
       "      <th>1</th>\n",
       "      <td>0.305014</td>\n",
       "      <td>0.891750</td>\n",
       "      <td>4.420002</td>\n",
       "    </tr>\n",
       "    <tr>\n",
       "      <th>2</th>\n",
       "      <td>0.299865</td>\n",
       "      <td>0.894117</td>\n",
       "      <td>4.419999</td>\n",
       "    </tr>\n",
       "    <tr>\n",
       "      <th>3</th>\n",
       "      <td>0.297240</td>\n",
       "      <td>0.895167</td>\n",
       "      <td>4.420000</td>\n",
       "    </tr>\n",
       "    <tr>\n",
       "      <th>4</th>\n",
       "      <td>0.295121</td>\n",
       "      <td>0.895750</td>\n",
       "      <td>4.420000</td>\n",
       "    </tr>\n",
       "  </tbody>\n",
       "</table>\n",
       "</div>"
      ],
      "text/plain": [
       "       loss  sparse_categorical_accuracy  mean_absolute_error\n",
       "0  0.307110                     0.890667             4.419999\n",
       "1  0.305014                     0.891750             4.420002\n",
       "2  0.299865                     0.894117             4.419999\n",
       "3  0.297240                     0.895167             4.420000\n",
       "4  0.295121                     0.895750             4.420000"
      ]
     },
     "execution_count": 77,
     "metadata": {},
     "output_type": "execute_result"
    }
   ],
   "source": [
    "df = pd.DataFrame(history.history)\n",
    "df.head()"
   ]
  },
  {
   "cell_type": "code",
   "execution_count": 78,
   "id": "46afb6dd",
   "metadata": {},
   "outputs": [
    {
     "data": {
      "text/plain": [
       "[Text(0.5, 0, 'Epochs'), Text(0, 0.5, 'Loss')]"
      ]
     },
     "execution_count": 78,
     "metadata": {},
     "output_type": "execute_result"
    },
    {
     "data": {
      "image/png": "[encoded data removed]",
      "text/plain": [
       "<Figure size 432x288 with 1 Axes>"
      ]
     },
     "metadata": {
      "needs_background": "light"
     },
     "output_type": "display_data"
    }
   ],
   "source": [
    "loss_plot = df.plot(y='loss', title = 'loss vs epochs', legend=False)\n",
    "loss_plot.set(xlabel='Epochs', ylabel='Loss')"
   ]
  },
  {
   "cell_type": "code",
   "execution_count": 79,
   "id": "f18b09df",
   "metadata": {},
   "outputs": [
    {
     "data": {
      "text/plain": [
       "[Text(0.5, 0, 'Epochs'), Text(0, 0.5, 'accuracy')]"
      ]
     },
     "execution_count": 79,
     "metadata": {},
     "output_type": "execute_result"
    },
    {
     "data": {
      "image/png": "[encoded data removed]",
      "text/plain": [
       "<Figure size 432x288 with 1 Axes>"
      ]
     },
     "metadata": {
      "needs_background": "light"
     },
     "output_type": "display_data"
    }
   ],
   "source": [
    "acc_plot = df.plot(y='sparse_categorical_accuracy', title = 'accuracy vs epochs', legend=False)\n",
    "acc_plot.set(xlabel='Epochs', ylabel='accuracy')"
   ]
  },
  {
   "cell_type": "markdown",
   "id": "a7524d55",
   "metadata": {},
   "source": [
    "### evaluate"
   ]
  },
  {
   "cell_type": "code",
   "execution_count": 82,
   "id": "b56b3d02",
   "metadata": {},
   "outputs": [
    {
     "name": "stdout",
     "output_type": "stream",
     "text": [
      "313/313 - 0s - loss: 0.3170 - sparse_categorical_accuracy: 0.8855 - mean_absolute_error: 4.4200\n"
     ]
    }
   ],
   "source": [
    "test_loss, test_accuracy, test_mae = model.evaluate(test_images[..., np.newaxis], test_labels, verbose=2)"
   ]
  },
  {
   "cell_type": "code",
   "execution_count": 83,
   "id": "ee1981b0",
   "metadata": {},
   "outputs": [
    {
     "data": {
      "text/plain": [
       "0.31703075766563416"
      ]
     },
     "execution_count": 83,
     "metadata": {},
     "output_type": "execute_result"
    }
   ],
   "source": [
    "test_loss"
   ]
  },
  {
   "cell_type": "code",
   "execution_count": null,
   "id": "0522e472",
   "metadata": {},
   "outputs": [],
   "source": []
  },
  {
   "cell_type": "markdown",
   "id": "5af1cd20",
   "metadata": {},
   "source": [
    "### Predict"
   ]
  },
  {
   "cell_type": "code",
   "execution_count": 88,
   "id": "70f707a7",
   "metadata": {},
   "outputs": [
    {
     "data": {
      "image/png": "[encoded data removed]",
      "text/plain": [
       "<Figure size 432x288 with 1 Axes>"
      ]
     },
     "metadata": {
      "needs_background": "light"
     },
     "output_type": "display_data"
    },
    {
     "name": "stdout",
     "output_type": "stream",
     "text": [
      "label:Bag\n"
     ]
    }
   ],
   "source": [
    "inx = 30\n",
    "\n",
    "test_image = test_images[inx]\n",
    "plt.imshow(test_image)\n",
    "plt.show()\n",
    "print(f'label:{labels[test_labels[inx]]}')"
   ]
  },
  {
   "cell_type": "code",
   "execution_count": 91,
   "id": "da5d7c18",
   "metadata": {},
   "outputs": [],
   "source": [
    "prediction = model.predict(test_image[np.newaxis,...,np.newaxis])"
   ]
  },
  {
   "cell_type": "code",
   "execution_count": 93,
   "id": "253fe42a",
   "metadata": {},
   "outputs": [
    {
     "data": {
      "text/plain": [
       "'Bag'"
      ]
     },
     "execution_count": 93,
     "metadata": {},
     "output_type": "execute_result"
    }
   ],
   "source": [
    "labels[np.argmax(prediction)]"
   ]
  }
 ],
 "metadata": {
  "kernelspec": {
   "display_name": "Python 3",
   "language": "python",
   "name": "python3"
  },
  "language_info": {
   "codemirror_mode": {
    "name": "ipython",
    "version": 3
   },
   "file_extension": ".py",
   "mimetype": "text/x-python",
   "name": "python",
   "nbconvert_exporter": "python",
   "pygments_lexer": "ipython3",
   "version": "3.8.2"
  }
 },
 "nbformat": 4,
 "nbformat_minor": 5
}
